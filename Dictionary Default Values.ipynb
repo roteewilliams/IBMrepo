{
 "cells": [
  {
   "cell_type": "code",
   "execution_count": 1,
   "id": "697b95be",
   "metadata": {},
   "outputs": [],
   "source": [
    "name_for_userid = {\n",
    "    382: 'Alice',\n",
    "    950: 'Bob',\n",
    "    590: 'Dilbert',\n",
    "}"
   ]
  },
  {
   "cell_type": "code",
   "execution_count": 8,
   "id": "14aafb73",
   "metadata": {},
   "outputs": [],
   "source": [
    "def greeting(userid):\n",
    "    try:\n",
    "        return 'Hi %s!' % name_for_userid[userid]\n",
    "    except KeyError:\n",
    "        return 'Hi there!'\n",
    "    "
   ]
  },
  {
   "cell_type": "code",
   "execution_count": 5,
   "id": "73aa674a",
   "metadata": {},
   "outputs": [
    {
     "data": {
      "text/plain": [
       "'Hi Dilbert!'"
      ]
     },
     "execution_count": 5,
     "metadata": {},
     "output_type": "execute_result"
    }
   ],
   "source": [
    "greeting(590)"
   ]
  },
  {
   "cell_type": "code",
   "execution_count": 9,
   "id": "2923f7f5",
   "metadata": {},
   "outputs": [
    {
     "data": {
      "text/plain": [
       "'Hi there!'"
      ]
     },
     "execution_count": 9,
     "metadata": {},
     "output_type": "execute_result"
    }
   ],
   "source": [
    "greeting(5900)"
   ]
  },
  {
   "cell_type": "code",
   "execution_count": 11,
   "id": "cb1162f6",
   "metadata": {},
   "outputs": [],
   "source": [
    "def greeting(userid):\n",
    "    return 'Hi %s!' % name_for_userid.get(userid, 'there')"
   ]
  },
  {
   "cell_type": "code",
   "execution_count": 12,
   "id": "ee33341f",
   "metadata": {},
   "outputs": [
    {
     "data": {
      "text/plain": [
       "'Hi there!'"
      ]
     },
     "execution_count": 12,
     "metadata": {},
     "output_type": "execute_result"
    }
   ],
   "source": [
    "greeting(5900)"
   ]
  },
  {
   "cell_type": "code",
   "execution_count": 13,
   "id": "ce51cd68",
   "metadata": {},
   "outputs": [],
   "source": [
    "xs = {'a': 4, 'c': 2, 'b': 3, 'd': 1}"
   ]
  },
  {
   "cell_type": "code",
   "execution_count": 14,
   "id": "b1ee92fc",
   "metadata": {},
   "outputs": [
    {
     "data": {
      "text/plain": [
       "[('a', 4), ('b', 3), ('c', 2), ('d', 1)]"
      ]
     },
     "execution_count": 14,
     "metadata": {},
     "output_type": "execute_result"
    }
   ],
   "source": [
    "sorted(xs.items())"
   ]
  },
  {
   "cell_type": "code",
   "execution_count": null,
   "id": "b4501d54",
   "metadata": {},
   "outputs": [],
   "source": []
  }
 ],
 "metadata": {
  "kernelspec": {
   "display_name": "Python 3 (ipykernel)",
   "language": "python",
   "name": "python3"
  },
  "language_info": {
   "codemirror_mode": {
    "name": "ipython",
    "version": 3
   },
   "file_extension": ".py",
   "mimetype": "text/x-python",
   "name": "python",
   "nbconvert_exporter": "python",
   "pygments_lexer": "ipython3",
   "version": "3.9.7"
  }
 },
 "nbformat": 4,
 "nbformat_minor": 5
}
