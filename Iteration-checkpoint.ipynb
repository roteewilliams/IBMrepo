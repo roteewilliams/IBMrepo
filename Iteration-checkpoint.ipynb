{
 "cells": [
  {
   "cell_type": "markdown",
   "id": "7cc83443",
   "metadata": {},
   "source": [
    "# The for loop revisited"
   ]
  },
  {
   "cell_type": "code",
   "execution_count": 1,
   "id": "54971e5a",
   "metadata": {},
   "outputs": [
    {
     "name": "stdout",
     "output_type": "stream",
     "text": [
      "3\n"
     ]
    }
   ],
   "source": [
    "a = 5;\n",
    "\n",
    "b = a;\n",
    "\n",
    "a= 3;\n",
    "\n",
    "print(a)\n"
   ]
  },
  {
   "cell_type": "code",
   "execution_count": 2,
   "id": "7f21685f",
   "metadata": {},
   "outputs": [
    {
     "name": "stdout",
     "output_type": "stream",
     "text": [
      "Hi Joe, You are invited for a birthday party!\n",
      "Hi Emma, You are invited for a birthday party!\n"
     ]
    }
   ],
   "source": [
    "for f in ['Joe', 'Emma']:\n",
    "    invitation = \"Hi \" + f + \", You are invited for a birthday party!\"\n",
    "    print(invitation)"
   ]
  },
  {
   "cell_type": "code",
   "execution_count": 3,
   "id": "1c7296fc",
   "metadata": {},
   "outputs": [
    {
     "data": {
      "text/plain": [
       "55"
      ]
     },
     "execution_count": 3,
     "metadata": {},
     "output_type": "execute_result"
    }
   ],
   "source": [
    "def mysum(xs):\n",
    "#     sum all numbers\n",
    "    running_total = 0   #Before you update a variable, you have to initialize to the starting value.\n",
    "    for x in xs:\n",
    "        running_total = running_total + x\n",
    "    return running_total\n",
    "\n",
    "\n",
    "mysum([1, 2,3, 4] )\n",
    "\n",
    "mysum([1.25, 2.5, 1.75])\n",
    "\n",
    "mysum([1, -2, 3])\n",
    "\n",
    "mysum([ ])\n",
    "mysum(range(11))"
   ]
  },
  {
   "cell_type": "code",
   "execution_count": 4,
   "id": "eb7364d3",
   "metadata": {},
   "outputs": [
    {
     "data": {
      "text/plain": [
       "range(0, 11)"
      ]
     },
     "execution_count": 4,
     "metadata": {},
     "output_type": "execute_result"
    }
   ],
   "source": [
    "range(11)"
   ]
  },
  {
   "cell_type": "markdown",
   "id": "a2aa5d9c",
   "metadata": {},
   "source": [
    "# The while statement"
   ]
  },
  {
   "cell_type": "code",
   "execution_count": 5,
   "id": "138bebd3",
   "metadata": {},
   "outputs": [
    {
     "data": {
      "text/plain": [
       "10"
      ]
     },
     "execution_count": 5,
     "metadata": {},
     "output_type": "execute_result"
    }
   ],
   "source": [
    "def sum_to(n):\n",
    "    \"\"\" Return the sum of 1+2+3 ... n \"\"\"\n",
    "    ss = 0\n",
    "    v = 1\n",
    "    while v <= n:\n",
    "        ss = ss + v\n",
    "        v = v + 1\n",
    "    return ss\n",
    "\n",
    "sum_to(4)\n"
   ]
  },
  {
   "cell_type": "code",
   "execution_count": 6,
   "id": "b29a9f04",
   "metadata": {},
   "outputs": [
    {
     "name": "stdout",
     "output_type": "stream",
     "text": [
      "3, 10, 5, 16, 8, 4, 2, 1.\n"
     ]
    }
   ],
   "source": [
    "def seq3np1(n):\n",
    "    \"\"\" Print the 3n+1 sequence from n,\n",
    "    terminating when it reaches 1. \"\"\"\n",
    "    while n != 1:\n",
    "        print(n, end=\", \")\n",
    "        if n % 2 == 0: # n is even\n",
    "            n = n // 2\n",
    "        else: # n is odd\n",
    "            n = n * 3 + 1\n",
    "    print(n, end=\".\\n\")\n",
    "    \n",
    "\n",
    "seq3np1(3)"
   ]
  },
  {
   "cell_type": "code",
   "execution_count": 7,
   "id": "fa21477f",
   "metadata": {},
   "outputs": [
    {
     "data": {
      "text/plain": [
       "5"
      ]
     },
     "execution_count": 7,
     "metadata": {},
     "output_type": "execute_result"
    }
   ],
   "source": [
    "a = 10 // 2\n",
    "\n",
    "a"
   ]
  },
  {
   "cell_type": "code",
   "execution_count": 8,
   "id": "652636fe",
   "metadata": {},
   "outputs": [
    {
     "data": {
      "text/plain": [
       "0"
      ]
     },
     "execution_count": 8,
     "metadata": {},
     "output_type": "execute_result"
    }
   ],
   "source": [
    "10 % 2"
   ]
  },
  {
   "cell_type": "code",
   "execution_count": 9,
   "id": "fbda4280",
   "metadata": {},
   "outputs": [
    {
     "name": "stdout",
     "output_type": "stream",
     "text": [
      "19, 58, 29, 88, 44, 22, 11, 34, 17, 52, 26, 13, 40, 20, 10, 5, 16, 8, 4, 2, 1.\n"
     ]
    }
   ],
   "source": [
    "seq3np1(19)"
   ]
  },
  {
   "cell_type": "code",
   "execution_count": 10,
   "id": "579aaca5",
   "metadata": {},
   "outputs": [
    {
     "name": "stdout",
     "output_type": "stream",
     "text": [
      "21, 64, 32, 16, 8, 4, 2, 1.\n"
     ]
    }
   ],
   "source": [
    "seq3np1(21)"
   ]
  },
  {
   "cell_type": "code",
   "execution_count": 11,
   "id": "6be9dd93",
   "metadata": {},
   "outputs": [
    {
     "name": "stdout",
     "output_type": "stream",
     "text": [
      "16, 8, 4, 2, 1.\n"
     ]
    }
   ],
   "source": [
    "seq3np1(16)"
   ]
  },
  {
   "cell_type": "code",
   "execution_count": 12,
   "id": "0e14c931",
   "metadata": {},
   "outputs": [
    {
     "name": "stdout",
     "output_type": "stream",
     "text": [
      "7, 22, 11, 34, 17, 52, 26, 13, 40, 20, 10, 5, 16, 8, 4, 2, 1.\n"
     ]
    }
   ],
   "source": [
    "seq3np1(7)"
   ]
  },
  {
   "cell_type": "markdown",
   "id": "7dd9c621",
   "metadata": {},
   "source": [
    "# Counting digits"
   ]
  },
  {
   "cell_type": "code",
   "execution_count": 13,
   "id": "b831a733",
   "metadata": {},
   "outputs": [],
   "source": [
    "def num_digits(n):\n",
    "    count = 0\n",
    "    while n != 0:\n",
    "        count = count + 1\n",
    "        n = n // 10\n",
    "    return count"
   ]
  },
  {
   "cell_type": "code",
   "execution_count": 14,
   "id": "2451ba37",
   "metadata": {},
   "outputs": [
    {
     "data": {
      "text/plain": [
       "3"
      ]
     },
     "execution_count": 14,
     "metadata": {},
     "output_type": "execute_result"
    }
   ],
   "source": [
    "num_digits(710)"
   ]
  },
  {
   "cell_type": "code",
   "execution_count": 15,
   "id": "8433ead7",
   "metadata": {},
   "outputs": [
    {
     "data": {
      "text/plain": [
       "1"
      ]
     },
     "execution_count": 15,
     "metadata": {},
     "output_type": "execute_result"
    }
   ],
   "source": [
    "num_digits(3)"
   ]
  },
  {
   "cell_type": "code",
   "execution_count": 16,
   "id": "6865753a",
   "metadata": {},
   "outputs": [
    {
     "data": {
      "text/plain": [
       "0"
      ]
     },
     "execution_count": 16,
     "metadata": {},
     "output_type": "execute_result"
    }
   ],
   "source": [
    "num_digits(0)"
   ]
  },
  {
   "cell_type": "code",
   "execution_count": 17,
   "id": "a6564cb3",
   "metadata": {},
   "outputs": [],
   "source": [
    "def num_zero_and_five_digits(n):\n",
    "        count = 0\n",
    "        while n > 0:\n",
    "            digit = n % 10\n",
    "        if digit == 0 or digit == 5:\n",
    "            count = count + 1\n",
    "            n = n // 10\n",
    "        return count"
   ]
  },
  {
   "cell_type": "code",
   "execution_count": null,
   "id": "198f99e7",
   "metadata": {},
   "outputs": [],
   "source": [
    "num_zero_and_five_digits(5)"
   ]
  },
  {
   "cell_type": "code",
   "execution_count": null,
   "id": "51784819",
   "metadata": {},
   "outputs": [],
   "source": [
    "n = 2\n",
    "\n",
    "n +=5\n",
    "\n",
    "n"
   ]
  },
  {
   "cell_type": "markdown",
   "id": "ab5577bb",
   "metadata": {},
   "source": [
    "# Tables"
   ]
  },
  {
   "cell_type": "code",
   "execution_count": null,
   "id": "7d14b613",
   "metadata": {},
   "outputs": [],
   "source": [
    "for x in range(13): # Generate numbers 0 to 12\n",
    "    print(x, \"\\t\", 2**x)"
   ]
  },
  {
   "cell_type": "markdown",
   "id": "388b3dc0",
   "metadata": {},
   "source": [
    "# Two-dimensional tables"
   ]
  },
  {
   "cell_type": "code",
   "execution_count": null,
   "id": "e64c46a9",
   "metadata": {},
   "outputs": [],
   "source": [
    "for i in range(1, 7):\n",
    "    print(2 * i, end=\" \")\n",
    "print()"
   ]
  },
  {
   "cell_type": "markdown",
   "id": "45e59856",
   "metadata": {},
   "source": [
    "# Encapsulation and generalization"
   ]
  },
  {
   "cell_type": "code",
   "execution_count": null,
   "id": "dce3a5ff",
   "metadata": {},
   "outputs": [],
   "source": [
    "def print_multiples(n):\n",
    "    for i in range(1, 7):\n",
    "        print(n * i,  end=\" \" )\n",
    "    print()"
   ]
  },
  {
   "cell_type": "code",
   "execution_count": null,
   "id": "158049dd",
   "metadata": {},
   "outputs": [],
   "source": [
    " print_multiples(2)"
   ]
  },
  {
   "cell_type": "code",
   "execution_count": null,
   "id": "1ed33a0a",
   "metadata": {},
   "outputs": [],
   "source": [
    " print_multiples(3)"
   ]
  },
  {
   "cell_type": "code",
   "execution_count": null,
   "id": "604b2092",
   "metadata": {},
   "outputs": [],
   "source": [
    "for i in range(1, 7):\n",
    "    print_multiples(i)\n",
    "     "
   ]
  },
  {
   "cell_type": "markdown",
   "id": "b62d6d60",
   "metadata": {},
   "source": [
    "# The break statement"
   ]
  },
  {
   "cell_type": "code",
   "execution_count": null,
   "id": "81f70fc6",
   "metadata": {},
   "outputs": [],
   "source": [
    "for i in [12, 16, 17, 24, 29]:\n",
    "    if i % 2 == 1: # If the number is odd\n",
    "        break # ... immediately exit the loop\n",
    "    print(i)\n",
    "print(\"done\")"
   ]
  },
  {
   "cell_type": "code",
   "execution_count": null,
   "id": "4d9dd551",
   "metadata": {},
   "outputs": [],
   "source": [
    "17%2"
   ]
  },
  {
   "cell_type": "markdown",
   "id": "dd2770f3",
   "metadata": {},
   "source": [
    "# simple guessing game"
   ]
  },
  {
   "cell_type": "code",
   "execution_count": null,
   "id": "5ad659b8",
   "metadata": {},
   "outputs": [],
   "source": [
    "    import random # We cover random numbers in the\n",
    "\n",
    "\n",
    "    rng = random.Random() # modules chapter, so peek ahead.\n",
    "    number = rng.randrange(1, 1000) # Get random number between [1 and 1000).\n",
    "\n",
    "    guesses = 0\n",
    "    msg = \"\"\n",
    "\n",
    "    while True:\n",
    "        guess = int(input(msg + \"\\nGuess my number between 1 and 1000: \"))\n",
    "        guesses += 1\n",
    "        if guess > number:\n",
    "            msg += str(guess) + \" is too high.\\n\"\n",
    "        elif guess < number:\n",
    "            msg += str(guess) + \" is too low.\\n\"\n",
    "        else:\n",
    "            break\n",
    "\n",
    "input(\"\\n\\nGreat, you got it in {0} guesses!\\n\\n\".format(guesses))"
   ]
  },
  {
   "cell_type": "code",
   "execution_count": null,
   "id": "a6f9c9bd",
   "metadata": {},
   "outputs": [],
   "source": [
    "celebs = [(\"Brad Pitt\", 1963), (\"Jack Nicholson\", 1937),\n",
    "    (\"Justin Bieber\", 1994)]\n",
    "\n",
    "print(celebs)\n"
   ]
  },
  {
   "cell_type": "code",
   "execution_count": null,
   "id": "51a1d473",
   "metadata": {},
   "outputs": [],
   "source": [
    "print(len(celebs))"
   ]
  },
  {
   "cell_type": "code",
   "execution_count": null,
   "id": "d33c41fb",
   "metadata": {},
   "outputs": [],
   "source": [
    "for (nm, yr) in celebs:\n",
    "    if yr < 1980:\n",
    "        print (nm, yr)"
   ]
  },
  {
   "cell_type": "code",
   "execution_count": null,
   "id": "c33f03ca",
   "metadata": {},
   "outputs": [],
   "source": [
    " students = [\n",
    "    (\"John\", [\"CompSci\", \"Physics\"]),\n",
    "    (\"Vusi\", [\"Maths\", \"CompSci\", \"Stats\"]),\n",
    "    (\"Jess\", [\"CompSci\", \"Accounting\", \"Economics\", \"Management\"]),\n",
    "    (\"Sarah\", [\"InfSys\", \"Accounting\", \"Economics\", \"CommLaw\"]),\n",
    "    (\"Zuki\", [\"Sociology\", \"Economics\", \"Law\", \"Stats\", \"Music\"])]"
   ]
  },
  {
   "cell_type": "code",
   "execution_count": null,
   "id": "d5c41cfb",
   "metadata": {},
   "outputs": [],
   "source": [
    "for (nm, sj) in students:\n",
    "    print (nm, ' takes: ', len(sj), 'courses')"
   ]
  },
  {
   "cell_type": "code",
   "execution_count": null,
   "id": "27a1da5b",
   "metadata": {},
   "outputs": [],
   "source": [
    "counter = 0\n",
    "for (nm, sj) in students:\n",
    "    for s in sj:\n",
    "        if s == 'CompSci':\n",
    "            counter +=1\n",
    "        \n",
    "print ('Total number of students taking CompSci ', counter)"
   ]
  },
  {
   "cell_type": "code",
   "execution_count": 4,
   "id": "c8c94340",
   "metadata": {},
   "outputs": [],
   "source": [
    " def sqrt(n):\n",
    "    approx = n/2.0 # Start with some or other guess at the answer\n",
    "    while True:\n",
    "        better = (approx + n/approx)/2.0\n",
    "    if abs(approx - better) < 0.001:\n",
    "        return better\n",
    "    approx = better"
   ]
  },
  {
   "cell_type": "code",
   "execution_count": null,
   "id": "5d1edae7",
   "metadata": {},
   "outputs": [],
   "source": [
    " sqrt(25)"
   ]
  },
  {
   "cell_type": "code",
   "execution_count": null,
   "id": "a28c7f55",
   "metadata": {},
   "outputs": [],
   "source": [
    "def MyMax (firstnumber, secondnumber): \n",
    "    \n",
    "    if firstnumber > secondnumber: \n",
    "        return firstnumber\n",
    "else:\n",
    "return secondnumber"
   ]
  },
  {
   "cell_type": "code",
   "execution_count": null,
   "id": "92796d1f",
   "metadata": {},
   "outputs": [],
   "source": [
    "e*e \n",
    "\n",
    "for e in range(20):\n",
    "    if e%2==0"
   ]
  },
  {
   "cell_type": "code",
   "execution_count": 2,
   "id": "6e2d17df",
   "metadata": {},
   "outputs": [],
   "source": [
    "import sklearn"
   ]
  },
  {
   "cell_type": "code",
   "execution_count": null,
   "id": "645c909f",
   "metadata": {},
   "outputs": [],
   "source": []
  },
  {
   "cell_type": "markdown",
   "id": "5b7f77ca",
   "metadata": {},
   "source": [
    "# Writing Pythonic Loops"
   ]
  },
  {
   "cell_type": "code",
   "execution_count": 3,
   "id": "e44410bf",
   "metadata": {},
   "outputs": [
    {
     "data": {
      "text/plain": [
       "range(0, 3)"
      ]
     },
     "execution_count": 3,
     "metadata": {},
     "output_type": "execute_result"
    }
   ],
   "source": [
    "my_items = ['a', 'b', 'c']\n",
    "\n",
    "\n",
    "range(len(my_items))"
   ]
  },
  {
   "cell_type": "code",
   "execution_count": 4,
   "id": "d0de9991",
   "metadata": {},
   "outputs": [
    {
     "data": {
      "text/plain": [
       "[0, 1, 2]"
      ]
     },
     "execution_count": 4,
     "metadata": {},
     "output_type": "execute_result"
    }
   ],
   "source": [
    " list(range(0, 3))"
   ]
  },
  {
   "cell_type": "code",
   "execution_count": 5,
   "id": "be08997c",
   "metadata": {},
   "outputs": [
    {
     "name": "stdout",
     "output_type": "stream",
     "text": [
      "a\n",
      "b\n",
      "c\n"
     ]
    }
   ],
   "source": [
    "for item in my_items:\n",
    "    print(item)"
   ]
  },
  {
   "cell_type": "code",
   "execution_count": 6,
   "id": "09dc9576",
   "metadata": {},
   "outputs": [
    {
     "name": "stdout",
     "output_type": "stream",
     "text": [
      "0: a\n",
      "1: b\n",
      "2: c\n"
     ]
    }
   ],
   "source": [
    "for i, item in enumerate(my_items):\n",
    "    print(f'{i}: {item}')"
   ]
  },
  {
   "cell_type": "code",
   "execution_count": 1,
   "id": "a462199c",
   "metadata": {},
   "outputs": [],
   "source": [
    " emails = {\n",
    "    'Bob': 'bob@example.com',\n",
    "    'Alice': 'alice@example.com'}"
   ]
  },
  {
   "cell_type": "code",
   "execution_count": 9,
   "id": "38c2cc00",
   "metadata": {},
   "outputs": [
    {
     "name": "stdout",
     "output_type": "stream",
     "text": [
      "Bob -> bob@example.com\n",
      "Alice -> alice@example.com\n"
     ]
    }
   ],
   "source": [
    "for name, email in emails.items():\n",
    "    print(f'{name} -> {email}')"
   ]
  },
  {
   "cell_type": "code",
   "execution_count": 11,
   "id": "cf55541e",
   "metadata": {},
   "outputs": [],
   "source": [
    "squares = [x * x for x in range(10)]"
   ]
  },
  {
   "cell_type": "code",
   "execution_count": 12,
   "id": "fea4dddc",
   "metadata": {},
   "outputs": [
    {
     "data": {
      "text/plain": [
       "[0, 1, 4, 9, 16, 25, 36, 49, 64, 81]"
      ]
     },
     "execution_count": 12,
     "metadata": {},
     "output_type": "execute_result"
    }
   ],
   "source": [
    "squares"
   ]
  },
  {
   "cell_type": "code",
   "execution_count": 15,
   "id": "e1a9b238",
   "metadata": {},
   "outputs": [],
   "source": [
    "squares = []\n",
    "for x in range(10):\n",
    "    squares.append(x * x)"
   ]
  },
  {
   "cell_type": "code",
   "execution_count": null,
   "id": "6e3fbfb7",
   "metadata": {},
   "outputs": [],
   "source": []
  }
 ],
 "metadata": {
  "kernelspec": {
   "display_name": "Python 3 (ipykernel)",
   "language": "python",
   "name": "python3"
  },
  "language_info": {
   "codemirror_mode": {
    "name": "ipython",
    "version": 3
   },
   "file_extension": ".py",
   "mimetype": "text/x-python",
   "name": "python",
   "nbconvert_exporter": "python",
   "pygments_lexer": "ipython3",
   "version": "3.9.7"
  }
 },
 "nbformat": 4,
 "nbformat_minor": 5
}
