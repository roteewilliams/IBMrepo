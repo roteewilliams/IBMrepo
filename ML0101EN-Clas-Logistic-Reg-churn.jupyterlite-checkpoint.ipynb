{
 "cells": [
  {
   "cell_type": "code",
   "execution_count": 1,
   "id": "e1edd31f",
   "metadata": {},
   "outputs": [],
   "source": [
    " \n",
    "# Logistic Regression with Python\n",
    "\n",
    "# Estimated time needed: 25 minutes\n",
    "# Objectives\n",
    "\n",
    "# After completing this lab you will be able to:\n",
    "\n",
    "#     Use scikit Logistic Regression to classify\n",
    "#     Understand confusion matrix\n",
    "\n",
    "# In this notebook, you will learn Logistic Regression, and then, you'll create a model for a telecommunication company, to predict when its customers will leave for a competitor, so that they can take some action to retain the customers.\n"
   ]
  },
  {
   "cell_type": "code",
   "execution_count": 2,
   "id": "267eed68",
   "metadata": {},
   "outputs": [],
   "source": [
    "# What is the difference between Linear and Logistic Regression?\n",
    "\n",
    "# While Linear Regression is suited for estimating continuous values (e.g. estimating house price),\n",
    "# it is not the best tool for predicting the class of an observed data point. \n",
    "# In order to estimate the class of a data point, we need some sort of guidance on what would be the most probable class for that data point. \n",
    "# For this, we use Logistic Regression"
   ]
  },
  {
   "cell_type": "code",
   "execution_count": 3,
   "id": "7492210a",
   "metadata": {},
   "outputs": [],
   "source": [
    "# Logistic Regression is a variation of Linear Regression, used when the observed dependent variable, y, is categorical. It produces a formula that predicts the probability of the class label as a function of the independent variables.\n",
    "\n",
    "# Logistic regression fits a special s-shaped curve by taking the linear regression function and transforming the numeric estimate into a probability with the following function, which is called the sigmoid function 𝜎:\n",
    "\n",
    "# h_θ(x)=σ(θTX)=e(θ_0+θ_1x_1+θ_2x_2+...)1+e(θ_0+θ_1x_1+θ_2x_2+⋯)\n",
    "# Or: ProbabilityOfaClass_1=P(Y=1|X)=σ(θTX)=eθTX1+eθTX\n",
    "\n",
    "# In this equation, θTX\n",
    "# is the regression result (the sum of the variables weighted by the coefficients), exp is the exponential function and σ(θTX)\n",
    "\n",
    "# is the sigmoid or logistic function, also called logistic curve. It is a common \"S\" shape (sigmoid curve).\n",
    "\n",
    "# So, briefly, Logistic Regression passes the input through the logistic/sigmoid but then treats the result as a probability:"
   ]
  },
  {
   "cell_type": "code",
   "execution_count": 4,
   "id": "7cbb774b",
   "metadata": {},
   "outputs": [],
   "source": [
    "# The objective of the Logistic Regression algorithm, is to find the best parameters θ, for h_θ(x) = σ(θTX), \n",
    "# in such a way that the model best predicts the class of each case."
   ]
  },
  {
   "cell_type": "code",
   "execution_count": 5,
   "id": "05e90cc4",
   "metadata": {},
   "outputs": [],
   "source": [
    "# Customer churn with Logistic Regression\n",
    "\n",
    "# A telecommunications company is concerned about the number of customers leaving their land-line business\n",
    "# for cable competitors. They need to understand who is leaving. \n",
    "# Imagine that you are an analyst at this company and you have to find out who is leaving and why.\n"
   ]
  },
  {
   "cell_type": "code",
   "execution_count": 6,
   "id": "1fef50ad",
   "metadata": {},
   "outputs": [],
   "source": [
    "# Let's first import required libraries:\n",
    "\n",
    "import pandas as pd\n",
    "import pylab as pl\n",
    "import numpy as np\n",
    "import scipy.optimize as opt\n",
    "from sklearn import preprocessing\n",
    "%matplotlib inline \n",
    "import matplotlib.pyplot as plt"
   ]
  },
  {
   "cell_type": "code",
   "execution_count": 7,
   "id": "826e007e",
   "metadata": {},
   "outputs": [],
   "source": [
    "# About the dataset\n",
    "# We will use a telecommunications dataset for predicting customer churn. This is a historical customer dataset where each row represents one customer. The data is relatively easy to understand, and you may uncover insights you can use immediately. Typically it is less expensive to keep customers than acquire new ones, so the focus of this analysis is to predict the customers who will stay with the company.\n",
    "\n",
    "# This data set provides information to help you predict what behavior will help you to retain customers. You can analyze all relevant customer data and develop focused customer retention programs.\n",
    "\n",
    "# The dataset includes information about:\n",
    "\n",
    "#     Customers who left within the last month – the column is called Churn\n",
    "#     Services that each customer has signed up for – phone, multiple lines, internet, online security, online backup, device protection, tech support, and streaming TV and movies\n",
    "#     Customer account information – how long they had been a customer, contract, payment method, paperless billing, monthly charges, and total charges\n",
    "# #     Demographic info about customers – gender, age range, and if they have partners and dependent"
   ]
  },
  {
   "cell_type": "code",
   "execution_count": 8,
   "id": "8ebb8983",
   "metadata": {},
   "outputs": [],
   "source": [
    "\n",
    "path= \"https://cf-courses-data.s3.us.cloud-object-storage.appdomain.cloud/IBMDeveloperSkillsNetwork-ML0101EN-SkillsNetwork/labs/Module%203/data/ChurnData.csv\""
   ]
  },
  {
   "cell_type": "code",
   "execution_count": 9,
   "id": "94ce5e0f",
   "metadata": {},
   "outputs": [
    {
     "ename": "NameError",
     "evalue": "name 'download' is not defined",
     "output_type": "error",
     "traceback": [
      "\u001b[1;31m---------------------------------------------------------------------------\u001b[0m",
      "\u001b[1;31mNameError\u001b[0m                                 Traceback (most recent call last)",
      "\u001b[1;32mC:\\Users\\ENGR~1.ROT\\AppData\\Local\\Temp/ipykernel_12504/2161188000.py\u001b[0m in \u001b[0;36m<module>\u001b[1;34m\u001b[0m\n\u001b[1;32m----> 1\u001b[1;33m \u001b[1;32mawait\u001b[0m \u001b[0mdownload\u001b[0m\u001b[1;33m(\u001b[0m\u001b[0mpath\u001b[0m\u001b[1;33m,\u001b[0m \u001b[1;34m\"ChurnData.csv\"\u001b[0m\u001b[1;33m)\u001b[0m\u001b[1;33m\u001b[0m\u001b[1;33m\u001b[0m\u001b[0m\n\u001b[0m\u001b[0;32m      2\u001b[0m \u001b[0mpath\u001b[0m\u001b[1;33m=\u001b[0m\u001b[1;34m\"ChurnData.csv\"\u001b[0m\u001b[1;33m\u001b[0m\u001b[1;33m\u001b[0m\u001b[0m\n",
      "\u001b[1;31mNameError\u001b[0m: name 'download' is not defined"
     ]
    }
   ],
   "source": [
    "\n",
    "await download(path, \"ChurnData.csv\")\n",
    "path=\"ChurnData.csv\"\n"
   ]
  },
  {
   "cell_type": "code",
   "execution_count": null,
   "id": "dde77eaf",
   "metadata": {},
   "outputs": [],
   "source": []
  }
 ],
 "metadata": {
  "kernelspec": {
   "display_name": "Python 3 (ipykernel)",
   "language": "python",
   "name": "python3"
  },
  "language_info": {
   "codemirror_mode": {
    "name": "ipython",
    "version": 3
   },
   "file_extension": ".py",
   "mimetype": "text/x-python",
   "name": "python",
   "nbconvert_exporter": "python",
   "pygments_lexer": "ipython3",
   "version": "3.9.7"
  }
 },
 "nbformat": 4,
 "nbformat_minor": 5
}
