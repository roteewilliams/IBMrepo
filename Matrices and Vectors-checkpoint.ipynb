{
 "cells": [
  {
   "cell_type": "code",
   "execution_count": 5,
   "id": "e80992d6",
   "metadata": {},
   "outputs": [
    {
     "ename": "NameError",
     "evalue": "name 'size' is not defined",
     "output_type": "error",
     "traceback": [
      "\u001b[1;31m---------------------------------------------------------------------------\u001b[0m",
      "\u001b[1;31mNameError\u001b[0m                                 Traceback (most recent call last)",
      "\u001b[1;32mC:\\Users\\ENGR~1.ROT\\AppData\\Local\\Temp/ipykernel_17272/1755872581.py\u001b[0m in \u001b[0;36m<module>\u001b[1;34m\u001b[0m\n\u001b[0;32m     11\u001b[0m \u001b[1;33m\u001b[0m\u001b[0m\n\u001b[0;32m     12\u001b[0m \u001b[1;31m# % Get the dimension of the matrix A where m = rows and n = columns\u001b[0m\u001b[1;33m\u001b[0m\u001b[1;33m\u001b[0m\u001b[0m\n\u001b[1;32m---> 13\u001b[1;33m \u001b[1;33m[\u001b[0m\u001b[0mm\u001b[0m\u001b[1;33m,\u001b[0m\u001b[0mn\u001b[0m\u001b[1;33m]\u001b[0m \u001b[1;33m=\u001b[0m \u001b[0msize\u001b[0m\u001b[1;33m(\u001b[0m\u001b[0mA\u001b[0m\u001b[1;33m)\u001b[0m\u001b[1;33m\u001b[0m\u001b[1;33m\u001b[0m\u001b[0m\n\u001b[0m\u001b[0;32m     14\u001b[0m \u001b[1;33m\u001b[0m\u001b[0m\n\u001b[0;32m     15\u001b[0m \u001b[1;31m# % You could also store it this way\u001b[0m\u001b[1;33m\u001b[0m\u001b[1;33m\u001b[0m\u001b[0m\n",
      "\u001b[1;31mNameError\u001b[0m: name 'size' is not defined"
     ]
    }
   ],
   "source": [
    "# % The ; denotes we are going back to a new row.\n",
    "A = [[1, 2, 3], \n",
    "     [4, 5, 6],\n",
    "     [7, 8, 9],\n",
    "     [10, 11, 12]]\n",
    "\n",
    "# % Initialize a vector \n",
    "v = [[1],\n",
    "     [2],\n",
    "     [3]]\n",
    "\n",
    "# % Get the dimension of the matrix A where m = rows and n = columns\n",
    "[m,n] = size(A)\n",
    "\n",
    "# % You could also store it this way\n",
    "dim_A = size(A)\n",
    "\n",
    "# % Get the dimension of the vector v \n",
    "dim_v = size(v)\n",
    "\n",
    "# % Now let's index into the 2nd row 3rd column of matrix A\n",
    "A_23 = A(2,3)\n"
   ]
  },
  {
   "cell_type": "markdown",
   "id": "012df348",
   "metadata": {},
   "source": [
    "#Addition and Scalar Multiplication"
   ]
  },
  {
   "cell_type": "code",
   "execution_count": null,
   "id": "3981fa45",
   "metadata": {},
   "outputs": [],
   "source": []
  },
  {
   "cell_type": "code",
   "execution_count": null,
   "id": "c882cf8c",
   "metadata": {},
   "outputs": [],
   "source": [
    "% Initialize matrix A and B \n",
    "A = [1, 2, 4; 5, 3, 2]\n",
    "B = [1, 3, 4; 1, 1, 1]\n",
    "\n",
    "% Initialize constant s \n",
    "s = 2\n",
    "\n",
    "% See how element-wise addition works\n",
    "add_AB = A + B \n",
    "\n",
    "% See how element-wise subtraction works\n",
    "sub_AB = A - B\n",
    "\n",
    "% See how scalar multiplication works\n",
    "mult_As = A * s\n",
    "\n",
    "% Divide A by s\n",
    "div_As = A / s\n",
    "\n",
    "% What happens if we have a Matrix + scalar?\n",
    "add_As = A + s\n"
   ]
  },
  {
   "cell_type": "markdown",
   "id": "72d3ce8c",
   "metadata": {},
   "source": [
    "#Matrix-Vector Multiplication"
   ]
  },
  {
   "cell_type": "code",
   "execution_count": null,
   "id": "ece63fe6",
   "metadata": {},
   "outputs": [],
   "source": [
    "% Initialize matrix A \n",
    "A = [1, 2, 3; 4, 5, 6;7, 8, 9] \n",
    "\n",
    "% Initialize vector v \n",
    "v = [1; 1; 1] \n",
    "\n",
    "% Multiply A * v\n",
    "Av = A * v\n",
    "\n"
   ]
  },
  {
   "cell_type": "markdown",
   "id": "610b3f2d",
   "metadata": {},
   "source": [
    "##Matrix-Matrix Multiplication"
   ]
  },
  {
   "cell_type": "code",
   "execution_count": null,
   "id": "f6556c12",
   "metadata": {},
   "outputs": [],
   "source": [
    "% Initialize a 3 by 2 matrix \n",
    "A = [1, 2; 3, 4;5, 6]\n",
    "\n",
    "% Initialize a 2 by 1 matrix \n",
    "B = [1; 2] \n",
    "\n",
    "% We expect a resulting matrix of (3 by 2)*(2 by 1) = (3 by 1) \n",
    "mult_AB = A*B\n",
    "\n",
    "% Make sure you understand why we got that result"
   ]
  },
  {
   "cell_type": "markdown",
   "id": "ee03595d",
   "metadata": {},
   "source": [
    "##Matrix Multiplication Properties"
   ]
  },
  {
   "cell_type": "code",
   "execution_count": null,
   "id": "fb80e6bf",
   "metadata": {},
   "outputs": [],
   "source": []
  },
  {
   "cell_type": "code",
   "execution_count": null,
   "id": "9446984c",
   "metadata": {},
   "outputs": [],
   "source": [
    "% Initialize random matrices A and B \n",
    "A = [1,2;4,5]\n",
    "B = [1,1;0,2]\n",
    "\n",
    "% Initialize a 2 by 2 identity matrix\n",
    "I = eye(2)\n",
    "\n",
    "% The above notation is the same as I = [1,0;0,1]\n",
    "\n",
    "% What happens when we multiply I*A ? \n",
    "IA = I*A \n",
    "\n",
    "% How about A*I ? \n",
    "AI = A*I \n",
    "\n",
    "% Compute A*B \n",
    "AB = A*B \n",
    "\n",
    "% Is it equal to B*A? \n",
    "BA = B*A \n",
    "\n",
    "% Note that IA = AI but AB != BA"
   ]
  },
  {
   "cell_type": "code",
   "execution_count": null,
   "id": "2b94ccd3",
   "metadata": {},
   "outputs": [],
   "source": []
  },
  {
   "cell_type": "markdown",
   "id": "c3b7b614",
   "metadata": {},
   "source": [
    "# Inverse and Transpose"
   ]
  },
  {
   "cell_type": "code",
   "execution_count": null,
   "id": "5b623447",
   "metadata": {},
   "outputs": [],
   "source": [
    "% Initialize matrix A \n",
    "A = [1,2,0;0,5,6;7,0,9]\n",
    "\n",
    "% Transpose A \n",
    "A_trans = A' \n",
    "\n",
    "% Take the inverse of A \n",
    "A_inv = inv(A)\n",
    "\n",
    "% What is A^(-1)*A? \n",
    "A_invA = inv(A)*A\n",
    "\n"
   ]
  }
 ],
 "metadata": {
  "kernelspec": {
   "display_name": "Python 3 (ipykernel)",
   "language": "python",
   "name": "python3"
  },
  "language_info": {
   "codemirror_mode": {
    "name": "ipython",
    "version": 3
   },
   "file_extension": ".py",
   "mimetype": "text/x-python",
   "name": "python",
   "nbconvert_exporter": "python",
   "pygments_lexer": "ipython3",
   "version": "3.9.7"
  }
 },
 "nbformat": 4,
 "nbformat_minor": 5
}
